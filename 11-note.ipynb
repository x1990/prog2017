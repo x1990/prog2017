{
 "cells": [
  {
   "cell_type": "code",
   "execution_count": 1,
   "metadata": {
    "collapsed": false
   },
   "outputs": [
    {
     "data": {
      "text/plain": [
       "2"
      ]
     },
     "execution_count": 1,
     "metadata": {},
     "output_type": "execute_result"
    }
   ],
   "source": [
    "1+1"
   ]
  },
  {
   "cell_type": "code",
   "execution_count": 3,
   "metadata": {
    "collapsed": false
   },
   "outputs": [],
   "source": [
    "with open('c:/cit/test.txt', 'w', encoding='utf-8') as test_file:\n",
    "    test_file.write('Hello!')"
   ]
  },
  {
   "cell_type": "markdown",
   "metadata": {},
   "source": [
    "with open(ファイル名,'ｗ',encoding='utf-8') as 変数名\n",
    "変数名を使ったプログラム"
   ]
  },
  {
   "cell_type": "markdown",
   "metadata": {},
   "source": [
    "128 テキストファイルが作られる"
   ]
  },
  {
   "cell_type": "code",
   "execution_count": 5,
   "metadata": {
    "collapsed": false
   },
   "outputs": [],
   "source": [
    "with open('c:/cit/test.txt', 'a', encoding='utf-8') as test_file:\n",
    "    test_file.write('Hello, World!')"
   ]
  },
  {
   "cell_type": "markdown",
   "metadata": {},
   "source": [
    "'w'は上書き'a'は追記"
   ]
  },
  {
   "cell_type": "code",
   "execution_count": 11,
   "metadata": {
    "collapsed": false
   },
   "outputs": [],
   "source": [
    "with open('c:/cit/record.txt', 'w', encoding='utf-8') as record_file:\n",
    "        for x in range(1,101):\n",
    "            record_file.write(str(x)+ '\\n')"
   ]
  },
  {
   "cell_type": "code",
   "execution_count": 19,
   "metadata": {
    "collapsed": false
   },
   "outputs": [],
   "source": [
    "with open('c:/cit/record.csv', 'w', encoding='utf-8') as record_file:\n",
    "        for x in range(1,10):\n",
    "            for y in range(1,10):\n",
    "                record_file.write(str(x * y )+ ',')\n",
    "            record_file.write('\\n')"
   ]
  },
  {
   "cell_type": "markdown",
   "metadata": {},
   "source": [
    "131"
   ]
  },
  {
   "cell_type": "code",
   "execution_count": 23,
   "metadata": {
    "collapsed": false
   },
   "outputs": [],
   "source": [
    "with open('c:/cit/test1.txt', 'w', encoding='utf-8') as test1_file:\n",
    "    test1_file.write('1,2,3,4\\n5,6,7,8\\n')"
   ]
  },
  {
   "cell_type": "markdown",
   "metadata": {},
   "source": [
    "133"
   ]
  },
  {
   "cell_type": "code",
   "execution_count": 24,
   "metadata": {
    "collapsed": false
   },
   "outputs": [
    {
     "name": "stdout",
     "output_type": "stream",
     "text": [
      "Hello!Hello, World!\n"
     ]
    }
   ],
   "source": [
    "with open('c:/cit/test.txt', 'r', encoding='utf-8') as test_file:\n",
    "    for line in test_file:\n",
    "        print(line)"
   ]
  },
  {
   "cell_type": "markdown",
   "metadata": {},
   "source": [
    "134"
   ]
  },
  {
   "cell_type": "code",
   "execution_count": 26,
   "metadata": {
    "collapsed": false
   },
   "outputs": [
    {
     "name": "stdout",
     "output_type": "stream",
     "text": [
      "['Hello!Hello', ' World!']\n"
     ]
    }
   ],
   "source": [
    "with open('c:/cit/test.txt', 'r', encoding='utf-8') as test_file:\n",
    "    for line in test_file:\n",
    "        myData = line.split(',')\n",
    "        print(myData)"
   ]
  },
  {
   "cell_type": "markdown",
   "metadata": {},
   "source": [
    "135"
   ]
  },
  {
   "cell_type": "code",
   "execution_count": 29,
   "metadata": {
    "collapsed": false
   },
   "outputs": [
    {
     "name": "stdout",
     "output_type": "stream",
     "text": [
      "['Hello!Hello', ' World!']\n"
     ]
    }
   ],
   "source": [
    "with open('c:/cit/test.txt', 'r', encoding='utf-8') as test_file:\n",
    "    for line in test_file:\n",
    "        myData = line.strip().split(',')\n",
    "        print(myData)"
   ]
  },
  {
   "cell_type": "markdown",
   "metadata": {},
   "source": [
    "136"
   ]
  },
  {
   "cell_type": "markdown",
   "metadata": {},
   "source": [
    "140 \\tはタブ　\\nは改行"
   ]
  },
  {
   "cell_type": "code",
   "execution_count": null,
   "metadata": {
    "collapsed": true
   },
   "outputs": [],
   "source": []
  }
 ],
 "metadata": {
  "kernelspec": {
   "display_name": "Python 3",
   "language": "python",
   "name": "python3"
  },
  "language_info": {
   "codemirror_mode": {
    "name": "ipython",
    "version": 3
   },
   "file_extension": ".py",
   "mimetype": "text/x-python",
   "name": "python",
   "nbconvert_exporter": "python",
   "pygments_lexer": "ipython3",
   "version": "3.6.0"
  }
 },
 "nbformat": 4,
 "nbformat_minor": 2
}
